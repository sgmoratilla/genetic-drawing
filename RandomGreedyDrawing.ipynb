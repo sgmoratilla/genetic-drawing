{
 "cells": [
  {
   "cell_type": "code",
   "execution_count": null,
   "metadata": {},
   "outputs": [],
   "source": [
    "from genetic_drawing import *\n",
    "from drawer import *\n",
    "import time\n",
    "from stopwatch import *\n",
    "log.setLevel(level=logging.INFO)"
   ]
  },
  {
   "cell_type": "code",
   "execution_count": null,
   "metadata": {},
   "outputs": [],
   "source": [
    "problem = DrawingProblem(image_path = 'sam/sam2.jpg')\n",
    "random.seed(time.time())\n",
    "sw = StopWatch()"
   ]
  },
  {
   "cell_type": "code",
   "execution_count": null,
   "metadata": {},
   "outputs": [],
   "source": [
    "rn = GreedyIterativeDrawing(problem)\n",
    "sw.start()\n",
    "monitor1 = rn.generate(stages=1, n_trials=20, individual_size=10, show_progress_images=True)\n",
    "sw.stop()\n",
    "log.info(f'Elapsed time: {sw}')"
   ]
  },
  {
   "cell_type": "code",
   "execution_count": null,
   "metadata": {},
   "outputs": [],
   "source": [
    "#load a custom mask and set a smaller brush size for finer details\n",
    "sampling_mask = cv2.cvtColor(cv2.imread(\"sam/mask_sam2.jpg\"), cv2.COLOR_BGR2GRAY)\n",
    "finer_problem = DrawingProblem(color_image = problem.color_image, sampling_mask = sampling_mask)\n",
    "brushes_range = DrawingBrushesRange([[0.05, 0.1], [0.1, 0.2]])\n",
    "\n",
    "ga = GreedyIterativeDrawing(finer_problem, brushes_range)\n",
    "\n",
    "sw.start()\n",
    "monitor2 = ga.generate(stages=40, n_trials=30, individual_size=10, drawer=monitor1.drawer, show_progress_images=True)\n",
    "sw.stop()\n",
    "log.info(f'Elapsed time: {sw}')"
   ]
  },
  {
   "cell_type": "code",
   "execution_count": null,
   "metadata": {},
   "outputs": [],
   "source": [
    "monitor1.save_images('out')\n",
    "monitor2.save_images('out', first_n_stages)"
   ]
  }
 ],
 "metadata": {
  "kernelspec": {
   "display_name": "Python 3",
   "language": "python",
   "name": "python3"
  },
  "language_info": {
   "codemirror_mode": {
    "name": "ipython",
    "version": 3
   },
   "file_extension": ".py",
   "mimetype": "text/x-python",
   "name": "python",
   "nbconvert_exporter": "python",
   "pygments_lexer": "ipython3",
   "version": "3.7.7"
  }
 },
 "nbformat": 4,
 "nbformat_minor": 2
}
