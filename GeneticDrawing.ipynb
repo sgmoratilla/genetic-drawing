{
 "cells": [
  {
   "cell_type": "code",
   "execution_count": 1,
   "metadata": {},
   "outputs": [
    {
     "data": {
      "image/png": "[encoded data removed]",
      "text/plain": [
       "<Figure size 432x288 with 1 Axes>"
      ]
     },
     "metadata": {
      "needs_background": "light"
     },
     "output_type": "display_data"
    }
   ],
   "source": [
    "from genetic_drawing import *\n",
    "from drawer import *\n",
    "log.setLevel(level=logging.INFO)\n",
    "problem = DrawingProblem('sam/sam2.jpg')\n",
    "drawer = ImageDrawer(problem.image_shape)\n",
    "monitor = NotebookDrawingMonitor(drawer)\n",
    "gen = GeneticDrawing(problem, seed=time.time())\n",
    "out = gen.generate(100, 1, 100, 10, monitor)"
   ]
  },
  {
   "cell_type": "code",
   "execution_count": 1,
   "metadata": {},
   "outputs": [],
   "source": [
    "import cv2\n",
    "import os\n",
    "import time\n",
    "from IPython.display import clear_output\n",
    "from genetic_drawing import *\n",
    "from drawer import *"
   ]
  },
  {
   "cell_type": "code",
   "execution_count": null,
   "metadata": {},
   "outputs": [],
   "source": [
    "#load the example image and set the generator for 100 stages with 20 generations each\n",
    "drawer = ImageDrawer('sam/sam2.jpg')\n",
    "gen = GeneticDrawing(drawer, seed=time.time())\n",
    "out = gen.generate(100, 20, 1, 50)"
   ]
  },
  {
   "cell_type": "code",
   "execution_count": null,
   "metadata": {},
   "outputs": [],
   "source": [
    "#load a custom mask and set a smaller brush size for finer details\n",
    "gen.sampling_mask = cv2.cvtColor(cv2.imread(\"sam/mask_sam2.jpg\"), cv2.COLOR_BGR2GRAY)\n",
    "gen.brushesRange = [[0.05, 0.1], [0.1, 0.2]]\n",
    "#keep drawing on top of our previous result\n",
    "out = gen.generate(40, 30, 50)"
   ]
  },
  {
   "cell_type": "code",
   "execution_count": null,
   "metadata": {},
   "outputs": [],
   "source": [
    "#save all the images from the image buffer\n",
    "import cv2\n",
    "import os\n",
    "if not os.path.exists('out'):\n",
    "    os.mkdir(\"out\")\n",
    "for i in range(len(gen.imgBuffer)):\n",
    "    cv2.imwrite(os.path.join(\"out\", f\"{i:06d}.png\"), gen.imgBuffer[i])\n",
    "#if you want to save only last image, run below\n",
    "# cv2.imwrite(\"out/final.png', out)"
   ]
  },
  {
   "cell_type": "code",
   "execution_count": null,
   "metadata": {},
   "outputs": [],
   "source": []
  }
 ],
 "metadata": {
  "kernelspec": {
   "display_name": "Python 3",
   "language": "python",
   "name": "python3"
  },
  "language_info": {
   "codemirror_mode": {
    "name": "ipython",
    "version": 3
   },
   "file_extension": ".py",
   "mimetype": "text/x-python",
   "name": "python",
   "nbconvert_exporter": "python",
   "pygments_lexer": "ipython3",
   "version": "3.7.7"
  }
 },
 "nbformat": 4,
 "nbformat_minor": 2
}
